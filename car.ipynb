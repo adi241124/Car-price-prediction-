{
 "cells": [
  {
   "cell_type": "code",
   "execution_count": null,
   "id": "4b1900c7-36e6-439e-b928-3396ee66c55b",
   "metadata": {},
   "outputs": [],
   "source": [
    "import pandas as pd\n",
    "import matplotlib.pyplot as plt\n",
    "import seaborn as sns\n",
    "from sklearn.model_selection import train_test_split\n",
    "from sklearn.preprocessing import LabelEncoder, StandardScaler\n",
    "from sklearn.ensemble import RandomForestRegressor\n",
    "from sklearn.linear_model import LinearRegression\n",
    "from sklearn.metrics import mean_squared_error, mean_absolute_error, r2_score"
   ]
  },
  {
   "cell_type": "code",
   "execution_count": null,
   "id": "468bbd65-ea60-46de-9d6e-760d532aa429",
   "metadata": {},
   "outputs": [],
   "source": [
    "car_data = pd.read_csv('Downloads/car data.csv')"
   ]
  },
  {
   "cell_type": "code",
   "execution_count": null,
   "id": "eb5006e1-5ea4-4e60-8833-862db7f294b6",
   "metadata": {},
   "outputs": [],
   "source": [
    "print(car_data.head())"
   ]
  },
  {
   "cell_type": "code",
   "execution_count": null,
   "id": "c676d671-e4fc-4871-85db-4f8b6dd25235",
   "metadata": {},
   "outputs": [],
   "source": [
    "print(car_data.info())"
   ]
  },
  {
   "cell_type": "code",
   "execution_count": null,
   "id": "9d2e6f6e-3452-4526-98a7-fa9d1a9288bf",
   "metadata": {},
   "outputs": [],
   "source": [
    "print(car_data.isnull().sum())"
   ]
  },
  {
   "cell_type": "code",
   "execution_count": null,
   "id": "5020b9cf-2c75-4bba-89b9-41a1857a89f1",
   "metadata": {},
   "outputs": [],
   "source": [
    "# Perform the replacement as usual\n",
    "car_data.replace({'Fuel_Type': {'Petrol': 0, 'Diesel': 1, 'CNG': 2}}, inplace=True)\n",
    "car_data.replace({'Seller_Type': {'Dealer': 0, 'Individual': 1}}, inplace=True)\n",
    "car_data.replace({'Transmission': {'Manual': 0, 'Automatic': 1}}, inplace=True)\n",
    "\n",
    "# Explicitly cast the columns to 'int' to avoid future issues\n",
    "car_data['Fuel_Type'] = car_data['Fuel_Type'].astype(int)\n",
    "car_data['Seller_Type'] = car_data['Seller_Type'].astype(int)\n",
    "car_data['Transmission'] = car_data['Transmission'].astype(int)\n"
   ]
  },
  {
   "cell_type": "code",
   "execution_count": null,
   "id": "e2ca4a3c-e4cb-433a-95f5-87e4ad5812b4",
   "metadata": {},
   "outputs": [],
   "source": [
    "x = car_data.drop(['Car_Name', 'Selling_Price'], axis=1)  # Dropping 'Car_Name' and 'Selling_Price' columns\n",
    "y = car_data['Selling_Price']"
   ]
  },
  {
   "cell_type": "code",
   "execution_count": null,
   "id": "bfeb70fb-7c5f-47ee-afc2-d902c107b59d",
   "metadata": {},
   "outputs": [],
   "source": [
    "print(\"Features (x):\\n\", x.head())\n",
    "print(\"Target (y):\\n\", y.head())\n",
    "features = car_data[['Year', 'Fuel_Type', 'Seller_Type', 'Transmission']]  # Choose relevant features\n",
    "target = car_data['Present_Price']"
   ]
  },
  {
   "cell_type": "code",
   "execution_count": null,
   "id": "4fad2d6f-cd77-4927-8743-057c208b1a38",
   "metadata": {},
   "outputs": [],
   "source": [
    "X_train, X_test, y_train, y_test = train_test_split(features, target, test_size=0.2, random_state=42)"
   ]
  },
  {
   "cell_type": "code",
   "execution_count": null,
   "id": "2b2d25c2-b0ef-430f-9f11-501e0e3c37aa",
   "metadata": {},
   "outputs": [],
   "source": [
    "scaler = StandardScaler()\n",
    "X_train_scaled = scaler.fit_transform(X_train)\n",
    "X_test_scaled = scaler.transform(X_test)"
   ]
  },
  {
   "cell_type": "code",
   "execution_count": null,
   "id": "cb616fae-fb41-47cf-9b61-194db5615371",
   "metadata": {},
   "outputs": [],
   "source": [
    "model = LinearRegression()\n",
    "model.fit(X_train, y_train)"
   ]
  },
  {
   "cell_type": "code",
   "execution_count": null,
   "id": "a51078bd-e44b-46c1-aa67-7bd5df198927",
   "metadata": {},
   "outputs": [],
   "source": [
    "y_pred = model.predict(X_test)"
   ]
  },
  {
   "cell_type": "code",
   "execution_count": null,
   "id": "275cb56d-5bed-405a-9d39-a90622b1309b",
   "metadata": {},
   "outputs": [],
   "source": [
    "print('\\nR2 Score: ', r2_score(y_test, y_pred))"
   ]
  },
  {
   "cell_type": "code",
   "execution_count": null,
   "id": "02e2521b-9b41-4649-b120-eda63952b9f1",
   "metadata": {},
   "outputs": [],
   "source": [
    "lr_model = LinearRegression()\n",
    "lr_model.fit(X_train_scaled, y_train)\n",
    "lr_model = LinearRegression()\n",
    "lr_model.fit(X_train_scaled, y_train)\n",
    "\n",
    "# Random Forest Regressor\n",
    "rf_model = RandomForestRegressor(n_estimators=100, random_state=42)\n",
    "rf_model.fit(X_train_scaled, y_train)\n",
    "\n",
    "# 8. Model Evaluation\n",
    "\n",
    "# Linear Regression Predictions\n",
    "y_pred_lr = lr_model.predict(X_test_scaled)\n",
    "print(\"Linear Regression Performance:\")\n",
    "print(f\"Mean Absolute Error: {mean_absolute_error(y_test, y_pred_lr)}\")\n",
    "print(f\"Mean Squared Error: {mean_squared_error(y_test, y_pred_lr)}\")\n",
    "print(f\"R-squared: {r2_score(y_test, y_pred_lr)}\")\n",
    "\n",
    "# Random Forest Predictions\n",
    "y_pred_rf = rf_model.predict(X_test_scaled)\n",
    "print(\"\\nRandom Forest Performance:\")\n",
    "print(f\"Mean Absolute Error: {mean_absolute_error(y_test, y_pred_rf)}\")\n",
    "print(f\"Mean Squared Error: {mean_squared_error(y_test, y_pred_rf)}\")\n",
    "print(f\"R-squared: {r2_score(y_test, y_pred_rf)}\")\n",
    "\n",
    "# 9. Making Predictions on New Data\n",
    "new_data = {\n",
    "    'Year': [2020],\n",
    "    'Fuel_Type': [1],  # Fuel_Type: 1 for Diesel\n",
    "    'Seller_Type': [0],  # Seller_Type: 0 for Dealer\n",
    "    'Transmission': [1]  # Transmission: 1 for Automatic\n",
    "}\n",
    "\n",
    "new_df = pd.DataFrame(new_data)\n",
    "new_scaled = scaler.transform(new_df)\n",
    "predicted_price_rf = rf_model.predict(new_scaled)\n",
    "predicted_price_lr = lr_model.predict(new_scaled)\n",
    "\n",
    "print(f\"Predicted Price (Random Forest): {predicted_price_rf[0]}\")\n",
    "print(f\"Predicted Price (Linear Regression): {predicted_price_lr[0]}\")"
   ]
  },
  {
   "cell_type": "code",
   "execution_count": null,
   "id": "1e483b8c-cbde-4de1-bd3c-8c9e875b226c",
   "metadata": {},
   "outputs": [],
   "source": [
    "plt.scatter(y_test, y_pred)\n",
    "plt.xlabel('Actual Values')\n",
    "plt.ylabel('Predicted Values')\n",
    "plt.title('Car Price Prediction')\n",
    "plt.show()"
   ]
  },
  {
   "cell_type": "code",
   "execution_count": null,
   "id": "1c7f3c0e-6954-4d26-860e-92443ba31f32",
   "metadata": {},
   "outputs": [],
   "source": [
    "plt.figure(figsize=(10, 5))\n",
    "sns.histplot(car_data['Selling_Price'], bins=30, kde=True, color='blue')\n",
    "plt.title('Distribution of Selling Price')\n",
    "plt.xlabel('Selling Price')\n",
    "plt.ylabel('Frequency')\n",
    "plt.show()"
   ]
  },
  {
   "cell_type": "code",
   "execution_count": null,
   "id": "dce14dbc-6510-47d9-9c1d-a98493db2122",
   "metadata": {},
   "outputs": [],
   "source": [
    "plt.figure(figsize=(10, 5))\n",
    "sns.histplot(car_data['Kms_Driven'], bins=30, kde=True, color='green')\n",
    "plt.title('Distribution of Kms Driven')\n",
    "plt.xlabel('Kms Driven')\n",
    "plt.ylabel('Frequency')\n",
    "plt.show()"
   ]
  },
  {
   "cell_type": "code",
   "execution_count": null,
   "id": "39e0a660-3e20-4af3-b326-57efda91fde9",
   "metadata": {},
   "outputs": [],
   "source": [
    "plt.figure(figsize=(10, 5))\n",
    "sns.histplot(car_data['Present_Price'], kde=True)\n",
    "plt.title('Distribution of Car Prices')\n",
    "plt.show()"
   ]
  },
  {
   "cell_type": "code",
   "execution_count": null,
   "id": "0b59e158-604b-4c8b-9438-3ca386e6b62a",
   "metadata": {},
   "outputs": [],
   "source": [
    "# Function to predict the price of a car by its name\n",
    "def predict_price_by_car_name(car_name):\n",
    "    # Check if the car name exists in the dataset\n",
    "    if car_name not in car_data['Car_Name'].values:\n",
    "        print(\"Car name not found in the dataset.\")\n",
    "        return\n",
    "    \n",
    "    # Extract the row corresponding to the car name\n",
    "    car_details = car_data[car_data['Car_Name'] == car_name]\n",
    "    \n",
    "    # Display car details (Kms Driven, Transmission, Fuel Type)\n",
    "    kms_driven = car_details['Kms_Driven'].values[0]\n",
    "    transmission = \"Automatic\" if car_details['Transmission'].values[0] == 1 else \"Manual\"\n",
    "    fuel_type = \"Diesel\" if car_details['Fuel_Type'].values[0] == 1 else \"Petrol\" if car_details['Fuel_Type'].values[0] == 0 else \"CNG\"\n",
    "    \n",
    "    print(f\"\\nCar Details for '{car_name}':\")\n",
    "    print(f\"Kms Driven: {kms_driven}\")\n",
    "    print(f\"Transmission: {transmission}\")\n",
    "    print(f\"Fuel Type: {fuel_type}\")\n",
    "    \n",
    "    # Filter features to match those used for training\n",
    "    car_features = car_details[['Year', 'Fuel_Type', 'Seller_Type', 'Transmission']]\n",
    "    \n",
    "    # Standardize the features for prediction\n",
    "    car_features_scaled = scaler.transform(car_features)\n",
    "    \n",
    "    # Use the Random Forest model to predict the price\n",
    "    predicted_price_rf = rf_model.predict(car_features_scaled)\n",
    "    predicted_price_lr = lr_model.predict(car_features_scaled)\n",
    "    \n",
    "    print(f\"Predicted Price (Random Forest): {predicted_price_rf[0]:.2f} INR\")\n",
    "    print(f\"Predicted Price (Linear Regression): {predicted_price_lr[0]:.2f} INR\")\n",
    "\n",
    "# Example: Get predicted price based on car name\n",
    "car_name_input = input(\"Enter car name to predict its price: \")\n",
    "predict_price_by_car_name(car_name_input)"
   ]
  },
  {
   "cell_type": "code",
   "execution_count": null,
   "id": "1927a691-9fe4-4192-b6f2-14ad6d6a207c",
   "metadata": {},
   "outputs": [],
   "source": []
  }
 ],
 "metadata": {
  "kernelspec": {
   "display_name": "Python 3 (ipykernel)",
   "language": "python",
   "name": "python3"
  },
  "language_info": {
   "codemirror_mode": {
    "name": "ipython",
    "version": 3
   },
   "file_extension": ".py",
   "mimetype": "text/x-python",
   "name": "python",
   "nbconvert_exporter": "python",
   "pygments_lexer": "ipython3",
   "version": "3.12.4"
  }
 },
 "nbformat": 4,
 "nbformat_minor": 5
}
